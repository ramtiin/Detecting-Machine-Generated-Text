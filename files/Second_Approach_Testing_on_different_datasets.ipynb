{
  "nbformat": 4,
  "nbformat_minor": 0,
  "metadata": {
    "colab": {
      "provenance": [],
      "machine_shape": "hm",
      "gpuType": "V100"
    },
    "kernelspec": {
      "name": "python3",
      "display_name": "Python 3"
    },
    "language_info": {
      "name": "python"
    },
    "accelerator": "GPU"
  },
  "cells": [
    {
      "cell_type": "code",
      "execution_count": 1,
      "metadata": {
        "id": "9o5-jnesFKbb"
      },
      "outputs": [],
      "source": [
        "import pandas as pd\n",
        "HC3_filtered = pd.concat([pd.read_hdf('/content/drive/MyDrive/HC3 - filtered/GPT_df_3.h5'), pd.read_hdf('/content/drive/MyDrive/HC3 - filtered/Human_df_3.h5')], axis=0).fillna(0)\n",
        "GPT_2 = pd.concat([pd.read_hdf('/content/drive/MyDrive/GPT2/GPT_df_gpt2.h5'), pd.read_hdf('/content/drive/MyDrive/GPT2/Human_df_gpt2.h5')], axis=0).fillna(0)\n",
        "HC3_unfiltered = pd.concat([pd.read_hdf('/content/drive/MyDrive/HC3 - Unfiltered/GPT_df_3.h5'), pd.read_hdf('/content/drive/MyDrive/HC3 - Unfiltered/Human_df_3.h5')], axis=0).fillna(0)\n"
      ]
    },
    {
      "cell_type": "code",
      "source": [
        "# Replacement dictionary\n",
        "replacement_dict = {\n",
        "    'Human_train': 'train',\n",
        "    'Human_test': 'test',\n",
        "    'Human_val': 'val',\n",
        "    'GPT_train': 'train',\n",
        "    'GPT_test': 'test',\n",
        "    'GPT_val': 'val'\n",
        "}\n",
        "\n",
        "# Apply the replacements\n",
        "GPT_2 = GPT_2.replace(replacement_dict)"
      ],
      "metadata": {
        "id": "7BNmXaW2IAIh"
      },
      "execution_count": 2,
      "outputs": []
    },
    {
      "cell_type": "code",
      "source": [
        "# Create the datasets dictionary\n",
        "datasets = {\n",
        "    'HC3_filtered': HC3_filtered,\n",
        "    'HC3_unfiltered': HC3_unfiltered,\n",
        "     'GPT_2': GPT_2\n",
        "}"
      ],
      "metadata": {
        "id": "-gYa2NbSMmar"
      },
      "execution_count": 3,
      "outputs": []
    },
    {
      "cell_type": "code",
      "source": [
        "from torch.utils.data import Dataset\n",
        "import numpy as np\n",
        "import re\n",
        "import nltk\n",
        "import string\n",
        "\n",
        "class TextDataset(Dataset):\n",
        "    def __init__(self, dataframe, tokenizer, max_length=500):\n",
        "        texts = dataframe.text.values.tolist()\n",
        "        #texts = [self._preprocess(text) for text in texts]\n",
        "        self._print_random_samples(texts)\n",
        "\n",
        "        self.texts = tokenizer(texts, padding='max_length',\n",
        "                                max_length=max_length,\n",
        "                                truncation=True,\n",
        "                              return_tensors=\"pt\")\n",
        "\n",
        "        if 'label' in dataframe:\n",
        "            self.labels = dataframe.label.values.tolist()\n",
        "\n",
        "    def _print_random_samples(self, texts):\n",
        "        random_entries = np.random.choice(len(texts), 5, replace=False)\n",
        "        for i in random_entries:\n",
        "            print(f\"Entry {i}: {texts[i]}\")\n",
        "        print()\n",
        "\n",
        "    def __len__(self):\n",
        "        return len(self.texts['input_ids'])\n",
        "\n",
        "    def __getitem__(self, idx):\n",
        "        text = {'input_ids': self.texts['input_ids'][idx],\n",
        "                'attention_mask': self.texts['attention_mask'][idx]}\n",
        "        label = -1\n",
        "        if hasattr(self, 'labels'):\n",
        "            label = self.labels[idx]\n",
        "        return text, label"
      ],
      "metadata": {
        "id": "pEZIZ7CDwe_8"
      },
      "execution_count": 4,
      "outputs": []
    },
    {
      "cell_type": "code",
      "source": [
        "import torch\n",
        "from tqdm import tqdm\n",
        "def get_text_predictions(model, loader):\n",
        "    use_cuda = torch.cuda.is_available()\n",
        "    device = torch.device(\"cuda\" if use_cuda else \"cpu\")\n",
        "\n",
        "    model = model.to(device)\n",
        "\n",
        "\n",
        "    results_predictions = []\n",
        "    with torch.no_grad():\n",
        "        model.eval()\n",
        "        for data_input, _ in tqdm(loader):\n",
        "            attention_mask = data_input['attention_mask'].to(device)\n",
        "            input_ids = data_input['input_ids'].squeeze(1).to(device)\n",
        "\n",
        "\n",
        "            output = model(input_ids, attention_mask)\n",
        "\n",
        "            output = (output > 0.5).int()\n",
        "            results_predictions.append(output)\n",
        "\n",
        "    return torch.cat(results_predictions).cpu().detach().numpy()"
      ],
      "metadata": {
        "id": "4e5tlQ0ewV2f"
      },
      "execution_count": 5,
      "outputs": []
    },
    {
      "cell_type": "code",
      "source": [
        "# Load models\n",
        "models = {\n",
        "    \"HC3_filtered_model\": torch.load(\"/content/drive/MyDrive/Project/roberta_gpt3_filtered.pt\", map_location=torch.device('cuda')),\n",
        "    \"HC3_unfiltered_model\": torch.load(\"/content/drive/MyDrive/Project/roberta_gpt3_unfiltered.pt\", map_location=torch.device('cuda')),\n",
        "    \"GPT_2_model\": torch.load(\"/content/drive/MyDrive/Project/roberta_gpt2.pt\", map_location=torch.device('cuda'))\n",
        "}\n"
      ],
      "metadata": {
        "id": "JiqFu4YG04pE"
      },
      "execution_count": 22,
      "outputs": []
    },
    {
      "cell_type": "code",
      "source": [
        "from sklearn.metrics import classification_report, f1_score\n",
        "import matplotlib.pyplot as plt\n",
        "import pandas as pd\n",
        "import numpy as np\n",
        "\n",
        "\n",
        "f1_results = []\n",
        "\n",
        "for model_name, model in models.items():\n",
        "    for test_name, df in datasets.items():\n",
        "        train_df = next(iter(datasets.values()))  # get first dataset for column structure\n",
        "        feature_cols = train_df.drop(['source', 'text', 'label'], axis=1).columns.tolist()\n",
        "\n",
        "        df_test = df[df['source'] == 'test']\n",
        "        test_dataloader = DataLoader(TextDataset(df_test, tokenizer), batch_size=8, shuffle=False, num_workers=0)\n",
        "\n",
        "        predictions = get_text_predictions(model, test_dataloader)\n",
        "\n",
        "        # Compute F1 score (binary classification)\n",
        "        f1 = f1_score(df_test.label, predictions)\n",
        "\n",
        "        # Append results to the f1_results list\n",
        "        f1_results.append((model_name, test_name, f1))\n",
        "\n",
        "        print(f\"Model {model_name}, Testing on {test_name}\")\n",
        "        print(classification_report(df_test.label, predictions))"
      ],
      "metadata": {
        "colab": {
          "base_uri": "https://localhost:8080/"
        },
        "id": "49V6AEY4GsVi",
        "outputId": "1ae083d9-82cd-48fd-eb58-16c7573b1f49"
      },
      "execution_count": 24,
      "outputs": [
        {
          "output_type": "stream",
          "name": "stdout",
          "text": [
            "Entry 13135: I ' l just try to elaborate a bit. There are only 2 common ways to increase the pressure of any fluid (including water). Pressure is equal to the density of the liquid times the height, it doesn't matter how wide or deep the pipe is, the water pressure at the bottom of a 2 inch diameter tube that ' 100 feet tall will be the same as a 2000 inch diameter tube that is 100 feet tall. So water is either collected at high elevation (rain collecting) or pumped to a higher elevation (tank at the top of a tower). Pumping is the second method to increase pressure, which is pretty obvious, using electrical power, to turn mechanical parts that apply force to the fluid to increase pressure.\n",
            "Entry 18017: Well, the laws vary considerably based on where you ' e planning on doing it.\n",
            "Entry 16102: There is no requirement to tip, as long as you do not visit the same restaurant twice.\n",
            "Entry 11454: Maybe a little reddit gold can help that awful hypothetical scenario. Edit: thanks for the gold, kind, law abiding citizen. In other news, this was my first post in 5 years or so of lurking-I still don't understand you, Reddit.\n",
            "Entry 6229: Variable rate loans can be a good option for some borrowers, but they may not be the best choice for everyone. It's important to carefully consider the potential risks and benefits of a variable rate loan before deciding if it is the right choice for you.One potential benefit of a variable rate loan is that the interest rate may be lower than the interest rate on a fixed rate loan. This can result in lower monthly payments and potentially save you money over the life of the loan. However, it's important to keep in mind that the interest rate on a variable rate loan can also increase over time, which could result in higher monthly payments.If you are considering a variable rate loan, it's a good idea to consider the following factors:Your financial stability: If you have a stable income and a good credit score, you may be better equipped to handle the potential fluctuations in monthly payments that can come with a variable rate loan.Your risk tolerance: If you are comfortable taking on more risk in exchange for the potential for lower payments, a variable rate loan might be a good option for you. However, if you prefer the security of knowing exactly what your monthly payments will be, a fixed rate loan might be a better choice.The terms of the loan: Make sure you understand the terms of the loan, including how often the interest rate can change and what factors can cause the rate to change. This will help you better understand the potential risks and benefits of a variable rate loan.Overall, it's important to carefully consider your financial situation and risk tolerance before deciding if a variable rate loan is the right choice for you.\n",
            "\n"
          ]
        },
        {
          "output_type": "stream",
          "name": "stderr",
          "text": [
            "100%|██████████| 3020/3020 [03:39<00:00, 13.74it/s]\n"
          ]
        },
        {
          "output_type": "stream",
          "name": "stdout",
          "text": [
            "Model HC3_filtered_model, Testing on HC3_filtered\n",
            "              precision    recall  f1-score   support\n",
            "\n",
            "           0       1.00      0.98      0.99     16148\n",
            "           1       0.96      1.00      0.98      8012\n",
            "\n",
            "    accuracy                           0.99     24160\n",
            "   macro avg       0.98      0.99      0.98     24160\n",
            "weighted avg       0.99      0.99      0.99     24160\n",
            "\n",
            "Entry 13147: It not for removing stain and adhered debris, it for quickly getting large chunks of food or fuel scraped off of the grill. This might be the most layman thing I ' e ever had to answer under the Physics tag. Bravo.\n",
            "Entry 24348: Hello and welcome,I competely understand the issue. If you attempt pregnancy now, most likely you will require insulin right from the beginning as pregnancy itself causes a diabetes like state which becomes more manifested in people who are already diabetic. Also you may need higher doses than in previous pregnancy. If the sugars are well controlled throughout the pregnancy then there should not be any issues for you as well as the baby. Everything depends upon the sugar levels. If they are controlled there are no risks. A proper diabetic diet and regular exercise will help keep the sugars down. Nothing extra needs to be done apart from this. So best of luck. Take care.Hope this satisfies your query. Thanks for using HCM. Feel free to ask any more questions that you may have. Dr Madhuri BagdeConsultant Obstetrician and Gynecologist\n",
            "Entry 13791: We do not know. Life has gone on. But there will be a period when there is no magnetic field at all. How long that will last we do not know. We could extrapolate the present rate of decrease to think it may take centuries for a new field to build up. Maybe there will be much more radiation getting to the surface during that time.\n",
            "Entry 7835: Yes, it is possible to contract a cold or the flu from someone who has a runny nose and cough, especially if you have close contact with them or if they sneeze or cough directly on you. However, the severity of the illness and the likelihood of transmission can vary depending on the specific virus or bacteria causing the illness and the specific circumstances of the exposure.It is always a good idea to take precautions to reduce your risk of contracting an illness, especially if you have an important event coming up, like finals. Here are a few things you can do to protect yourself:Wash your hands frequently with soap and water. This can help to reduce the spread of germs.Avoid close contact with people who are sick. If you must be around someone who is sick, try to maintain a distance of at least 6 feet.Cover your mouth and nose when you cough or sneeze. This can help to prevent the spread of germs to others.Consider wearing a face mask, especially if you will be in close proximity to others for an extended period of time.Get plenty of rest and eat a healthy diet to help support your immune system.If you are concerned about your risk of contracting an illness, it is always a good idea to consult with a healthcare professional.\n",
            "Entry 14621: It a sign of genetic health and societal standing. First there symmetry. A general sign of health is a relatively symmetric face, with two eyes that sort of look like each other, a straight nose, and so on. Yes there absolutely are exceptions-we are also attracted to the novelty of someone with different coloured eyes, and Harrison Ford crooked schnozz kind of adds to his roguish tough-guy charm. But in general, symmetric faces mean a greater chance of cute kids, which means a better breeding partner. Then there smoothness of skin, not too much or not too little hair that in the right places, lack of redness in the eyes, even white teeth, cleanliness which means you e not just back from shoveling fertilizer, and so on. All of these things have been conditioned by what society thinks is attractive both from an appearance perspective and from a financial support-your-kids perspective, on top of our genetic basis for attraction. And that why people with these features show up on Vogue and Maxim and GQ and so on. Why the face? We wear clothes that usually cover our bodies, and we face people when we talk to them. This makes the face the most obvious and concentrated set of signals that might help assess attractiveness, and so it there that we quite often assess someone as attractive or not.\n",
            "\n"
          ]
        },
        {
          "output_type": "stream",
          "name": "stderr",
          "text": [
            "100%|██████████| 3075/3075 [03:44<00:00, 13.68it/s]\n"
          ]
        },
        {
          "output_type": "stream",
          "name": "stdout",
          "text": [
            "Model HC3_filtered_model, Testing on HC3_unfiltered\n",
            "              precision    recall  f1-score   support\n",
            "\n",
            "           0       1.00      0.98      0.99     16580\n",
            "           1       0.96      1.00      0.98      8014\n",
            "\n",
            "    accuracy                           0.98     24594\n",
            "   macro avg       0.98      0.99      0.98     24594\n",
            "weighted avg       0.99      0.98      0.98     24594\n",
            "\n",
            "Entry 5806: Just the type of daddy bear this daddy lusts for. I will pread my legs for a man like this-vocal, hot and who knows what he wants and takes it. Giving myself for service-to a man like this-is my greatest pleasure. Post Reply\n",
            "Entry 4642: After the death of her step-father to breast cancer, Karielle is diagnosed with type 1 diabetes. When she doesn't receive proper nutrition or exercise, her disease takes its toll on her bones and muscle. Karielle struggles to meet financial goals such as buying a car or buying a home. She finds it very difficult to put her own needs first and has to rely on others to fill in the gaps. Karielle struggles to manage her diabetes without medication and struggles to afford her medications. Karielle seeks assistance from the federal government for her drug costs and Medicaid benefits. Karielle is granted access to her own private doctor and the government pays a portion of her out-of-pocket out of taxpayer funds. Karielle is living above her means and struggling with her own mental health and struggles to pay her bills. Karielle is on her own, constantly paying for expenses she simply cannot afford. She does not recognize the impact that her situation can have on the people around her. After two years of treatment for diabetes, Karielle's doctor told her she was in the best situation she could be, because she had successfully managed the disease. Karielle's medical care was so well-received, that after two years away from a government-funded facility, there was one more year of treatment, a new one scheduled for August of 2018. Karielle's family finds her health problems almost unbearable. A second hearing is scheduled November, 2017 for Karielle. Since the second hearing, many of Karielle's family members have been told Karielle never needed the second hearing in the first place, yet the government continues to deny her the medical care she so desperately deserves. Karielle's family feels this has nothing to do with Karielle's health or disability. If you are currently living on food stamps, or have been on a food stamp in the past, you have not received sufficient support to stay afloat. Please see below for information on available assistance in Washington state, and for other resources you may see on WSWS: Wage garnishments If you receive WSCS as unemployment compensation, it may not provide you with income for the whole month. For example, if you received WSCS from the Federal Emergency Social Security Administration but received benefits in excess of what you would have received in your state as a minimum wage earner, then the benefit is reduced by the amount you had paid in Federal and State income taxes. Your withholding and penalty payments for Federal Social Security Disability Insurance and Supplemental Security Income (SSI) will also go down based on the amount you received in taxes. There cannot be a lump sum WSCS refund of your SSI payment. Waiving any penalty for SSI and SSI savings To file a claim to claim WSCS or SSI, complete the WSCS Waiver Form and have it faxed to the WSCS Help Desk (Seattle Area: 206.586.4880, and WA, King County Regional Social Services Center (1-800-438-1232): 206-862-2983). Paying down interest on WSCS If you had a qualifying debt-free student loan, you may be eligible to get the reduced interest for the balance you paid back in student loans that interest has been paid back off. Some of your outstanding balance from the debt has to be met from one of two sources: a) Earned Income Tax Credit (EITC) amount b) Monthly payment, if the maximum monthly payment you were on was the Federal Poverty Level (FPL). If your monthly federal poverty level was more than your state income tax, you may be able to lower the amount in the Waiver Form by an amount you qualify as, but you need to have had at least the same income for 2-6 years prior to the application of your child with a significant disability. For example, if your yearly income was $45,000, with a federal poverty level of $23,800, and you were employed in the Washington State minimum wage occupation, then an EITC payment of $150 at the state and local level would be reduced by $150, and you would get your WSCS refund, or a full refund, if you did not work full time. Ways to help your family Contact the Washington State Division of Social and Developmental Services (DCSD SSdS) and request a case manager for your case and your child with disabilities. The Washington State Division of Social and Developmental Services will provide the information needed to complete your case and help arrange for the services and support you need. The DSDS can also connect you with other family members, including non-profit and social service organizations, to help with any additional services you may need. You will also need to contact your non-profit's national hotline number so that a case analyst can be reached. Please contact the\n",
            "Entry 9183: Breaking News Emails Get breaking news alerts and special reports. The news and stories that matter, delivered weekday mornings. NASA's Kepler spacecraft has discovered its 1,000th alien world, further cementing the prolific planet-hunting mission's status as a space science legend. Kepler reached the milestone on Tuesday with the announcement of eight newly confirmed exoplanets, bringing the mission's current alien world tally to 1,004. Kepler has found more than half of all known exoplanets to date. The telescope has also spotted 3,200 additional planet candidates, and about 90 percent of them should end up being confirmed. Furthermore, a number of these future finds are likely to be small, rocky worlds with temperate, relatively hospitable surface conditions — in other words, planets a lot like Earth. At least two of the newly confirmed planets appear to meet that description, Kepler team members say. Those two planets, known as Kepler-438b and Kepler-442b, join six others that were added to Kepler's list in Seattle during the annual winter meeting of the American Astronomical Society. Kepler-438b orbits a relatively cool star that's 475 light-years away and is 12 percent bigger than Earth. Kepler-442b is 33 percent bigger than Earth, and is 1,100 light-years from us. [Gallery: A World of Kepler Planets] Eight of the newly identified candidate planets appear to be between one and two times the size of Earth, and orbit in their stars'habitable zone — the area where water could exist in liquid form. Six of those candidates have parent stars that are similar to our own sun in size and temperature. However, all of the candidates require follow-up observations and analysis to verify they are actual planets. \"Kepler was designed to find these Earth analogues, and we always knew that the most interesting results would come at the end,\"Kepler mission scientist Natalie Batalha of NASA's Ames Research Center told Space.com last month.\"So we're just kind of ramping up toward those most interesting results.\" The latest findings have been submitted for publication in The Astrophysical Journal and The Astrophysical Journal Supplement.\n",
            "Entry 1704: A man who was taken to hospital after being hit in the head and face by a car during an assault has collapsed following treatment. The 27 year old victim was standing near Highway One and Parkdale Avenue as he sat in a vehicle westbound on the road with friends when he was struck in the face by the vehicle. Cops have been called after the driver of the vehicle drove off in the opposite direction. The man was taken to hospital with \"major injuries to his face/head, brain and leg\", and is being treated in a stable condition at St Vincent's in North Melbourne. He is not reported to have been drunk.\n",
            "Entry 549: If you do not want to pay fees during your purchase, then you can use your credit or debit card. Please make sure that you read the FAQ before you proceed to purchase. To purchase tickets at the box office: You need to present your payment card or gift receipt number at the box office to register, You also need to show a valid photo ID If you don't have a valid photo ID, you should not be registered into the box office. For other locations please contact the box office. Please refer to \"FAQs & Additional Considerations\" below for ticket information that may change after you pay. For more ticket information please check Box Office FAQ.\n",
            "\n"
          ]
        },
        {
          "output_type": "stream",
          "name": "stderr",
          "text": [
            "100%|██████████| 1250/1250 [01:33<00:00, 13.38it/s]\n"
          ]
        },
        {
          "output_type": "stream",
          "name": "stdout",
          "text": [
            "Model HC3_filtered_model, Testing on GPT_2\n",
            "              precision    recall  f1-score   support\n",
            "\n",
            "           0       0.64      0.76      0.69      5000\n",
            "           1       0.70      0.58      0.63      5000\n",
            "\n",
            "    accuracy                           0.67     10000\n",
            "   macro avg       0.67      0.67      0.66     10000\n",
            "weighted avg       0.67      0.67      0.66     10000\n",
            "\n",
            "Entry 8457: Most likely bowel obstruction which would be painful. They see stuff like that all the time\n",
            "Entry 23222: Yes, there are a lot of places you can research stocks online, Google Finance, Yahoo Finance, Reuters etc. It's important to understand that the price of the stock doesn't actually mean anything. Share price is just a function of the market capitalization divided by the number of shares outstanding. As an example take two companies that are both worth $1 million, but Company A has issued 10,000 shares and Company B has issued 100,000 shares. Company A has a share price of $100 while Company B has a share price of just $10. Comparing share price does nothing to indicate the relative value or health of Company A versus Company B. I know there are supposed to be no product recommendations but the dictionary area of investopedia.com is a good source of beginner investing information. And as Joe points out below the questions here with the \"stock\"tag would also be a good place to start. And while I'm on a roll, the book\"A Random Walk Down Wall Street\" is a good starting point in investing in the stock market.\n",
            "Entry 9990: Warm air is more humid, so the moisture soaks into absorbent stuff around you (carpet, upholstery, clothes, etc), which causes different smells to bloom. Now, warm air is also more humid because it can \"hold more stuff\", if that makes any sense--more can be dissolved in it. So in warm weather, scents will be held in the air rather than staying on their sources. So cold air is basically just a lot cleaner.\n",
            "Entry 16143: I like to think of the whole thing like a kool-aid mixture. Your body has a \"taste\" of kool-aid in it at all times. Think of this term as osmolality. The osmolality is this mixture of water+ \"stuff\" in it. Lets say when you are making a pitcher of kool-aid and you add too much of the powder. When you taste it it might be too sweet, or tangy.. so in order to fix it, I need to add water to thin it out. Your body does the same thing. (our bodies usually get this \"stuff\" IE electrolytes from our diet. Saline is one of these fluids. Ocean water has too much \"stuff\" in it IE salt.. this makes the mixture require even more water in order to get that osmolality (water + stuff ratio) correct so that the body can use it. If we have too much stuff, the body will start to add more water to thin it out, which really dehydrates you even more since that water gets pulled from other tissues. It gets a little more in-depth than this, but this is the ELI5 anwser.. the body is amazing at regulating itself.\n",
            "Entry 21308: This may be a nix based system, or in Windows this will typically be Active Directory (AD). You get in! The RSA SecurIDs add a 2nd level of protection, otherwise known as 2-phase authentication. There is additional software installed on the authentication server (i.e.: the server where that username: password database is stored) which adds a 3rd item you have to enter in order to get logged in successfully. Each keyfob (the grey keychain thing shown in that post) has a unique serial number written on the back. There is an algorithm used to generate a code on the keyfob, which is the same one used inside the server side software. To add another layer of security, you typically have to provide a personal pin on TOP of what ' displayed on the keyfob.\n",
            "\n"
          ]
        },
        {
          "output_type": "stream",
          "name": "stderr",
          "text": [
            "100%|██████████| 3020/3020 [03:39<00:00, 13.73it/s]\n"
          ]
        },
        {
          "output_type": "stream",
          "name": "stdout",
          "text": [
            "Model HC3_unfiltered_model, Testing on HC3_filtered\n",
            "              precision    recall  f1-score   support\n",
            "\n",
            "           0       1.00      0.98      0.99     16148\n",
            "           1       0.96      1.00      0.98      8012\n",
            "\n",
            "    accuracy                           0.99     24160\n",
            "   macro avg       0.98      0.99      0.98     24160\n",
            "weighted avg       0.99      0.99      0.99     24160\n",
            "\n",
            "Entry 15783: Many Bots are humans who have made a novelty account to impersonate bots.\n",
            "Entry 91: Fat Tuesday, also known as Mardi Gras, is a holiday that is celebrated in some parts of the world, including the United States. It falls on the Tuesday before Ash Wednesday, which marks the start of the Christian season of Lent. During Lent, many people give up certain things, such as certain foods or activities, as a way of preparing for Easter. Fat Tuesday is a way for people to celebrate and have fun before the more somber season of Lent begins. On this day, people often dress up in costumes, attend parades and parties, and eat special foods, such as pancakes, which are made with rich, fatty ingredients like butter and eggs. This is why it is called \"Fat Tuesday\"-because people eat these rich foods before giving them up for Lent. In some places, Fat Tuesday is a very big and important holiday, with elaborate parades and celebrations that can last for days. In other places, it is a more low-key affair, with smaller gatherings and less fanfare. However it is celebrated, Fat Tuesday is a time for people to come together and enjoy themselves before the start of the more reflective season of Lent.\n",
            "Entry 16406: It varies by state. URL_0. In states that have no special licensing or regulations, they are acting as citizens. The arrest is a citizen arrest and they have no legal protection against being hurt by the suspect. In some states it completely banned. Hopefully a lawyer will be able to answer better.\n",
            "Entry 19091: Not going to happen--even during the State of the Union, at least one member of the government who ' in line for the Presidency isn't there. And most of the government operates in a distributed way--especially the military. Kill a military commander, a new one steps in. Kill him, then another one steps in. Kill the top 1000 of them, and you still have another 3 M who are ready and able to step up. Not to mention that many / most Americans own firearms, and wouldn't hesitate to play Red Dawn given the opportunity.\n",
            "Entry 16401: It depends on what type of generation you are talking about. There are family generations, which is self-explanatory. However, you are talking about \"social generations.\" Basically, they are defined as an age cohort that has similar experiences and mindset / culture. To use a standard example, a man born in 1924 was old enough to fight in WWII, while a man born in 1925 wasn't. That produced personality and character differences that lasted a life time. Some other examples: A Baby Boomer is too young to remember WWII or the Depression. They didn't experience the strife and turmoil of those years, and instead can only recall the safe and sterile post war period. Generation X, OTOH, is too young to remember the JFK assassination, and no memory of the ordered 1950s world. They can only recall the social turmoil and cultural ferment of the 1960s and 1970s. A Millennial or Generation Y is too young to remember anything related to the 1960s and 1970s. Strauss and Howe explain it in great detail. Make sure to read the links on the left of the page too. And read [ Generations ] (URL_2) and [ The Fourth Turning ] (URL_1). URL_0\n",
            "\n"
          ]
        },
        {
          "output_type": "stream",
          "name": "stderr",
          "text": [
            "100%|██████████| 3075/3075 [03:44<00:00, 13.69it/s]\n"
          ]
        },
        {
          "output_type": "stream",
          "name": "stdout",
          "text": [
            "Model HC3_unfiltered_model, Testing on HC3_unfiltered\n",
            "              precision    recall  f1-score   support\n",
            "\n",
            "           0       1.00      0.98      0.99     16580\n",
            "           1       0.96      1.00      0.98      8014\n",
            "\n",
            "    accuracy                           0.98     24594\n",
            "   macro avg       0.98      0.99      0.98     24594\n",
            "weighted avg       0.99      0.98      0.98     24594\n",
            "\n",
            "Entry 6385: Cuthbert Dube Zimbabwe FA (Zifa) president Cuthbert Dube resigned before a meeting that passed a vote of no confidence. He had been set to continue in the role until elections are held on 5 December but has now been replaced by CEO Jonathan Mashingaidze until then. Football's world governing body Fifa says they will not be sending any more development money to Zifa until fully audited accounts have been produced. Dube had been in charge for five years, when Zifa's debt rose to around US$ 6m. The financial crisis lead to national teams repeatedly struggling to fulfil away assignments due to a lack of funds. He quit late on Friday, ahead of a Zifa extraordinary general meeting set for Saturday, with four representatives from Fifa and Caf in the country to oversee the vote. I will leave office with my head high in view of the Goal Project legacy I have left Cuthbert Dube The no-confidence vote went ahead with 51 of the 54 members voting to remove Dube immediately. Dube has used his personal funds to assist national teams on many occasions, but his detractors say that this is a sign that Zifa lacks sound financial structures. Zimbabwe was excluded from the upcoming 2018 World Cup qualifiers because of a failure to settle a $67,000 debt with former coach Valinhos, and there is a threat of a ban from the 2022 qualifiers as another former coach, Tom Saintfiet, has approached Fifa after taking legal action over money owed by Zifa. \"While I have been a subject of humiliation over the past few years, I will leave office with my head high in view of the Goal Project legacy I have left,\"said Dube.\"It is common cause that I am the only Zifa president that presided over a Goal Project and saw it to its completion. \"A good number of national team assignments would not have been fulfilled without commitment of my personal resources and assets.\" The Zifa Assembly passed a no-confidence vote on Dube earlier this year, but he successfully argued that the process was unconstitutional. This time he decided that his position was untenable.\n",
            "Entry 9936: Reuters One of the perils of the short weeks caused by Thursday games is the lack of time to prepare. So the Patriots, tasked with getting ready for Geno Smith and the Jets in two days, have decided not to. According to Albert Breer of the NFL Network, the Patriots have scheduled just a walk-through for today, meaning there won't be a full practice session prior to Thursday's game. Expect the Jets to play this for full dramatic effect, using it to fuel the no-respect engine that keeps players moving. But the reality is, there was a long week in front of the opener, giving Bill Belichick and his staff plenty of time to game-plan. And with a roster that's still populated by stars nursing injuries, easing up a bit now might be the more prudent play for the long season ahead.\n",
            "Entry 8130: Far-L Confirmed User Industry Role: Join Date: Feb 2002 Location: Seattle Posts: 6,079 As Dean or Suze is to glossy glam content, you are to au natural amateur content. You set the standard against which all others should be judged. Back when people still shot chromes, when I worked for Max Hardcore, he would always carry a couple \"dupe\"rolls to hand cops it they shut him down and wanted his film. Worked like a charm, but now I suppose they stand over you and want to see you hit\"delete\". Shame. Bet the public shots were nice. Contact-Email: farrell AT homegrownvideo D com Skype: hgfarl Newsweek Magazine-\"Homegrown Video, the longest running series in the history of porn.\" HomegrownCash.com, the affiliate program of Homegrown Video-The Largest Collection of Amateur XXX-Est. 1982.- Email: farrell AT homegrownvideo D com Skype: hgfarlNewsweek Magazine-__________________\n",
            "Entry 9176: POLICE have charged Ella Tromp with stealing a car in the latest twist in the family saga that's gripped Australia. Victoria police confirmed two charges have been laid, after inquiries from news.com.au. A spokeswoman said a 22-year-old Silvan woman was charged with theft of a motor vehicle and possessing the proceeds of a crime [the car] on August 30 in Victoria. She was bailed to appear at Ringwood Magistrates Court on April 19, 2017. Her sister Riana was also charged with theft of motor vehicle, but the charge has since been dismissed under section 33 of the Mental Health Act of NSW. No other charges were expected against any other family member, police said, despite time and resources in two states being spent hunting for the family. Speculation over whether the Tromp sisters were going to be charged has been increasing since it emerged the two had allegedly taken the car after they fled their parents at the Jenolan Caves, increasingly concerned by their erratic behaviour. When asked how Ella and Riana left Jenolan Caves, police said they did so in a car they neither hired nor owned. Riana separated from her sister and was then found in a catatonic state, hiding in the back of a local man's ute in Goulburn. THE UNANSWERED QUESTIONS Mark Tromp — who disappeared with wife Jacoba and children Mitchell, Ella and Riana — was the last of the family to be found on Saturday, after his wife turned up in Yass on Thursday. He is alive and well, physically at least, but the mystery is far from over. We are left with almost as many questions as answers. Where was Mark for the five days he was missing, when it seemed the whole country was searching for him? Jacoba turned up on Thursday and was admitted to hospital, dazed and agitated. From there she was transferred to a Goulburn mental health facility. But where had she been from the moment she left her husband, on the Tuesday, until she arrived in Yass two days later? And how did she get to Yass? The mental health issues that have plagued the family have been a source of confusion as well. How could more than one person in the same family have such serious delusions — all at the same time? Why were they all so convinced someone was out to get them? What led to the family meltdown? Police say they had no debts and no one was chasing them. Two of the couple's children, Mitchell and Ella, told reporters yesterday that they couldn't explain what happened. But have they said everything they know? Perhaps most bizarre is the fact that the Tromps'children Mitchell and Ella seem as much in the dark about what went wrong as the rest of Australia. Speaking to the media yesterday, they shared few clues about the ordeal — even though they were there for part of it — and admitted the whole five-day mystery was \"hard to explain\". Both said they were \"still confused\"about the trip.\"I had to go with the family because I wanted to see where they were going,\"Mitchell said.\"I couldn't leave them. But, yeah, it was tough to see your family like that and I've never seen anyone like it.\" Asked what triggered the trip, Ella said:\"It is very confusing, I still feel confused … I think our state of minds wasn't in the best place and … there's no one reason for it. It's bizarre.\" The siblings were reluctant to expand further on details saying\"police are still investigating\". In an earlier public appeal for assistance when Mark was still missing, the kids expressed how much they loved their missing dad. \"He's not dangerous, he's my mate, my father. I love him,\"Mitchell told reporters. Pressure had apparently been building on the usually happy family in the days before they fled their Silvan home — a lush and sprawling berry farm where visitors are welcomed to pick redcurrant berries and explore the idyllic livestock-studded surrounds. Mitch said his father had become\"paranoid\"after a\"build-up of different, normal everyday events\"leading him and Jacoba to unravel and take the rest of the family with them.\"I've never seen anything like it,\"Mitch said.\"It's really hard to explain or put a word on it but they were just fearing for their lives and then they decided to flee\". Mitch said the \"pressure\", as he described it, \"slowly got worse as the days went by\". He's tried to explain his father's disappearance saying he \"thinks people are after him. He's not in a good state of mind\".\n",
            "Entry 1859: Bobby Cannavale has admitted in a Sportsmail magazine interview that he does not \"like playing the dirty games\"and that he feels that the media treat his character\"the same as a football player.\" During a frank and honest appearance over the weekend, Cannavale, 28, said:\"I don't like the media. I was just telling a story about how on the night I got into trouble, we had to wait for an hour before the authorities would let us into the studio, and you've got people like that in the press. \"You don't like the media, though,\"he continued.\"I mean, look at those people over there – the media are saying my character is rotten in one article, but then you've got those journalists all the other times I've caused them all sorts of wrong with my behaviour. It goes back to getting the stories wrong, I guess, the way I played the game. \"I do what I do because it is what I love to do with rugby league. The thing is-I don't really do it to hide it from myself and the press because it's what I love to do with it. It's the best job in the world, as I say, and it makes me feel good.\" He added that he does not get into the same positions as other players or media commentators but said:\"I don't get caught up in the drama or the media stuff, the same way. I just want the best for the game of rugby league: to grow it in the right direction, so I will be doing what everybody else is doing when it comes to making sure the game's doing well and growing. I'm not trying to be different, but I like playing dirty games.\" Cannavale, who last played for Newcastle for $6 million and is yet to receive clearance to go to the Cowboys, is keen to get his rugby league career back on track and says he felt he\"should have gone to a different club\"when the Cowboys approached him.\"I should probably, I said, ' et's just leave it as is', and I didn't want to risk any more trouble,\"Cannavale said.\"Then I played another rugby league club, and I didn't want to risk any more trouble either.\"He also believes the Queensland Government should allow him to enter professional talks with the NRL with a salary that allows him to join an NFL-type league.\"I was in trouble before the Cowboys, and I guess the problem should have been resolved. I had to play and pay my dues.\" Cannavale said it was the second time that he has been in trouble with authorities: in August 2010, for the use of performance-enhancing drugs, his ban from the New Zealand Rugby League was reduced to three weeks after a magistrate found the player a low risk to return to rugby league. That decision has been supported by former England and Irish Lions players Steve Beresford, Dave Kearney and Jamie George and the club he plays for, Redfern.\"I got up to speak with [then-Queensland Premier] Mike Baird and then he's gone because Queensland and Australia are not in agreement. It needs to change,\"Cannavale said. It will be interesting to see what sort of response comes from Cannavale's situation if he actually can prove to the tribunal that he will actually want to join an NFL team in that same salary bracket. Given that he is only contracted until the end of 2018, given how the NRL has been handling any potential issue over the past eight months, it may just not come to pass. Rory Arnold, the director of the NRL Players'Association, was more outspoken about Cronulla's stance against Cannavale when the matter came before the tribunal. He told Sportsmail:\"At the earliest possible date, our club is ready to proceed with the possibility of the player, who is still under investigation by New Zealand's investigation team, meeting the terms of his NRL contract. \"No decision has been taken to withdraw New Zealand as the NRL's third party investigations. New Zealand's pursuit of an indictment of Johnny is still ongoing.\" In a separate interview with Rugby League Tonight, Broncos prop and teammate Chris McQueen also denied he believed he had been treated unfairly in Cronulla in what is thought to be a final attempt to find a way of resolving the situation. McQueen said he had accepted an apology from the club at the end of the 2013 season, but also denied any improper behaviour had taken place. Cronulla coach Sharad Matta said:\"He's never got a reason to say you're wrong to me. I've had no questions about he's been an innocent man. He's been in the NRL for a lot of years. I'm sorry to get that out there (as it's never been anything further). He's only ever been in\n",
            "\n"
          ]
        },
        {
          "output_type": "stream",
          "name": "stderr",
          "text": [
            "100%|██████████| 1250/1250 [01:33<00:00, 13.35it/s]\n"
          ]
        },
        {
          "output_type": "stream",
          "name": "stdout",
          "text": [
            "Model HC3_unfiltered_model, Testing on GPT_2\n",
            "              precision    recall  f1-score   support\n",
            "\n",
            "           0       0.64      0.76      0.69      5000\n",
            "           1       0.70      0.58      0.63      5000\n",
            "\n",
            "    accuracy                           0.67     10000\n",
            "   macro avg       0.67      0.67      0.66     10000\n",
            "weighted avg       0.67      0.67      0.66     10000\n",
            "\n",
            "Entry 843: When a bomb is falling through the air, the air rushing past it can cause a whistling sound. Think of it like when you blow across the top of a bottle and it makes a whistling sound. The bomb is moving very fast through the air, so the air rushing past it is also moving very fast, which can create a whistling sound. In movies, this sound is often added to make the scene more dramatic or intense. In real life, you might be able to hear this whistling sound if you were close enough to the bomb as it was falling. However, it's important to remember that bombs are very dangerous and should be avoided.\n",
            "Entry 2993: A key signature is a set of symbols at the beginning of a piece of music that tells you what key the music is written in. The key of a piece of music is the group of notes that the music is mostly centered around.The key of A major and F minor are the same because they have the same key signature. A key signature has two parts: the sharp symbols and the key name. The key name tells you the main note of the key, and the sharp symbols tell you which notes are sharpened (raised by a half step) in that key.In the key of A major, the main note is A, and the key signature has three sharp symbols: F, C, and G. This means that in the key of A major, the notes F, C, and G are all sharpened. In the key of F minor, the main note is F , and the key signature also has three sharp symbols: F, C, and G. This means that in the key of F minor, the notes F, C, and G are all sharpened too.So, even though the key names are different (A major and F minor), the key signatures are the same because they both have the same sharp symbols (F, C, and G). This means that the keys of A major and F minor are related to each other, and the music written in these keys will sound similar to each other.\n",
            "Entry 5025: The Bahamas is an archipelago made up of over 700 islands, cays, and islets. The main islands of the Bahamas are:New Providence Island: This is the most populous and developed island of the Bahamas.\n",
            "Entry 8390: The volunteer at the bookstore either doesn't really understand libertarianism or they are intentionally mischaracterizing it (most likely the second because anarchists tend to dislike anything governmental). Now, first off, let me say that the idea of libertarianism has been co-opted by groups such as The Tea Party who aren't really interested in the ideals of libertarianism so much as they e interested in how they can use some less-diligent followers of libertarianism for their own gain. For instance, The Tea Party tends to be accurately libertarian when it comes to fiscal-in-the-government issues, but absolutely not very libertarian at all when it comes to social-in-the-government issues. So they want to use the libertarian platform to push their own social agenda (which tends toward conservatism). Actual libertarianism, as anon33249038 stated, is about recognizing people rights and the freedom for individuals to choose their actions as long as they e not encroaching on anyone else rights. A good example of this might be drug use... as long as the individual ' drug use doesn't impact someone else rights, it is considered a \"victimless crime\" and should not be illegal. Once that drug use begins to encroach on someone else rights, there is now a victim, and that victim ' rights should be upheld.\n",
            "Entry 13588: It pretty arbitrary; if you look at old (pre-Meiji) maps of Japan, for example, they e actually drawn with North on the right and South on the left (IIRC).\n",
            "\n"
          ]
        },
        {
          "output_type": "stream",
          "name": "stderr",
          "text": [
            "100%|██████████| 3020/3020 [03:40<00:00, 13.69it/s]\n"
          ]
        },
        {
          "output_type": "stream",
          "name": "stdout",
          "text": [
            "Model GPT_2_model, Testing on HC3_filtered\n",
            "              precision    recall  f1-score   support\n",
            "\n",
            "           0       0.83      0.83      0.83     16148\n",
            "           1       0.66      0.65      0.65      8012\n",
            "\n",
            "    accuracy                           0.77     24160\n",
            "   macro avg       0.74      0.74      0.74     24160\n",
            "weighted avg       0.77      0.77      0.77     24160\n",
            "\n",
            "Entry 14176: They don't have a property of color. They only have a wavelength. \"Color\" is what we call the sensation we have in our brains when or eyes are exposed to different wavelengths of light. We perceive different wavelengths as looking different, and we call that perceptual difference \"color\".\n",
            "Entry 19402: Mine does. It won't start without it.\n",
            "Entry 23470: Firstly \"Most option traders don't want to actually buy or sell the underlying stock.\"THIS IS COMPLETELY UTTERLY FALSE Perhaps the problem is that you are only familiar with the BUY side of options trading. On the sell side of options trading, an options desk engages in DELTA HEDGING. When we sell an option to a client. We will also buy an appropriate amount of underlying to match the delta position of the option. During the life time of the option. We will readjust our hedge position whenever the delta changes (those who follow Black Scholes will know that normally that comes from (underlying) price changes). However, we lose money on each underlying change (we have to cross the bid-ask spread for each trade). That is why we lose money when there is volatility. That is why we are said to be\"short VEGA\"or\"short volatility\". So one way to think about \"buying\"options, is that you are paying someone to execute a specific trading strategy. In general, those who sell options, are also happy to buy options back (at a discount of course, so we make a profit). But when doing so, we need to unroll our hedging position, and that again incurs a cost (to us, the bank). Finally. Since this is\"money\"stackexchange rather than finance. You are most likely referring to\"warrants\"rather than\"options\", which are listed on stock exchanges. The exchange in most regions give us very specific and restrictive regulations that we must abide by. One very common one is that we MUST always list a price which we are willing to buy the warrants back at (which may not be an unreasonable spread from the sell price). Since an Option is a synthetically created investment instrument, when we buy back the Option from the investor, we simply unwind the underlying hedging positions that we booked to synthesize the Options with. Source: I've worked 2 years on a warrant desk, as a desk developer.\n",
            "Entry 10417: Once upon a time there was a computer named Francis. Francis was doing pretty well. He had a top notch processor, a fine motherboard, speedy RAM, and a large hard drive. He noticed, however, that although he was really, really fast, he could only do one thing at a time. Francis looked in the forbidden tome of computer science to find a way to quickly generate detailed images, which seemed to cost him a lot of time to generate. He found an ancient scroll which would allow him to create a miniature version of himself, to aid him in battle. A small modification of this spell gave him a sidekick that allowed him to focus on the meat of a given task and delegate the graphics intensive processes to his buddy, who would relay the data back to him after it was finished. Francis essentially duplicated his processor and used it exclusively for graphics.\n",
            "Entry 22982: Geoffrey Everest Hinton CC FRS FRSC[11] (born 6 December 1947) is a British-Canadian cognitive psychologist and computer scientist, most noted for his work on artificial neural networks. Since 2013, he has divided his time working for Google (Google Brain) and the University of Toronto. In 2017, he co-founded and became the Chief Scientific Advisor of the Vector Institute in Toronto.[12][13]With David Rumelhart and Ronald J. Williams, Hinton was co-author of a highly cited paper published in 1986 that popularized the backpropagation algorithm for training multi-layer neural networks,[14] although they were not the first to propose the approach.[15] Hinton is viewed as a leading figure in the deep learning community.[16][17][18][19][20] The dramatic image-recognition milestone of the AlexNet designed in collaboration with his students Alex Krizhevsky[21] and Ilya Sutskever for the ImageNet challenge 2012[22] was a breakthrough in the field of computer vision.[23]Hinton received the 2018 Turing Award, together with Yoshua Bengio and Yann LeCun, for their work on deep learning.[24] They are sometimes referred to as the \"Godfathers of AI\"and\"Godfathers of Deep Learning\",[25][26] and have continued to give public talks together.[27][28]\n",
            "\n"
          ]
        },
        {
          "output_type": "stream",
          "name": "stderr",
          "text": [
            "100%|██████████| 3075/3075 [03:44<00:00, 13.67it/s]\n"
          ]
        },
        {
          "output_type": "stream",
          "name": "stdout",
          "text": [
            "Model GPT_2_model, Testing on HC3_unfiltered\n",
            "              precision    recall  f1-score   support\n",
            "\n",
            "           0       0.83      0.84      0.84     16580\n",
            "           1       0.66      0.65      0.66      8014\n",
            "\n",
            "    accuracy                           0.78     24594\n",
            "   macro avg       0.75      0.74      0.75     24594\n",
            "weighted avg       0.78      0.78      0.78     24594\n",
            "\n",
            "Entry 7987: The U.S. Department of Homeland Security's monitoring of social media services could be a threat to civil liberties and online free speech, several lawmakers said during a hearing Thursday. According to a report by a civil liberties group called the Electronic Privacy Information Center, or EPIC, DHS paid more than $11 million to General Dynamics for a system to keep an eye on Facebook and Twitter public posts, as well as comment threads on major news websites. EPIC's report found that the system watches public social media posts for comments that \"adversely reflect\"on the government, and for responses to proposed government plans. EPIC tried to get information about the deal through a Freedom of Information request, but was denied. It then filed a successful lawsuit and was granted access to the specifics by DHS. During Thursday's hearing, congressmen from both sides of the asile grilled DHS about the General Dynamics deal as revealed by EPIC's lawsuit. One Democratic representative, Jackie Speier of California, said she was\"deeply troubled\"by the arrangement. The Department of Homeland Security\"is not a political operation,\"she added. Pennsylvania Republican Representative Patrick Meehan also expressed doubts about the plan.\"My guess is that the average American has no problem with other private individuals reading their commentary in online writings and postings in open forums, but may feel a bit of unease knowing the federal government may be doing the same thing,\"said Meehan. Reps. Speier and Meehan elaborated on their concerns about the deal in a letter sent to DHS Thursday.\"Although there are clear advantages to monitoring social media to identify possible threats to our security, there are also privacy and civil liberties concerns implicit in this activity,\"they wrote.\"With its domestic mission, the Department of Homeland Security needs to be mindful of the rights of the citizens of our country to express themselves online. Not only should guidance issued by the Department permit analysts to do their jobs identifying threats, but it should also be stringent enough to protect the rights of our citizens.\" DHS Chief Privacy Officer Mary Ellen Callahan defended the agency. According to Callahan, DHS'social media activity has been limited to public outreach, gaining\"situational awareness\"when disasters strike and helping law enforcement. She added that privacy rules meant they could only collect information on public officials and during\"life or death\"situations.\"It is the what, not the who, being identified,\" said Callahan. Would you feel comfortable with the government monitoring your public social media posts? Sound off in the comments below. Image courtesy of iStockphoto, adventtr\n",
            "Entry 7927: There's been a recent increase in unauthorized World of Warcraft account-logins via our website and the World of Warcraft mobile armory app. We're in the process of notifying any account holders who were not using an authenticator and whose account showed signs of unauthorized access (e.g., logging in from an unusual IP address). If you are among this group, you will receive an email describing how to reset your account. As a result of these activities, access to the World of Warcraft auction house via the mobile app has been taken off-line temporarily. Upon request, our customer support team will restore in-game items and gold for any accounts impacted. While no means of account security is guaranteed, every precaution you take to secure your computer and your account—including changing your password periodically—adds another defensive barrier. We strongly encourage everyone to take a few moments to read through the security tips available on our support website and follow the suggestions posted there. Update – The auction house is now once again available for use on the World of Warcraft Mobile Armory app and our World of Warcraft community website. We apologize for any inconvenience this may have caused.\n",
            "Entry 9211: This past fall, I had the honor to attend a convening at the White House, hosted by First Lady Michelle Obama. The convening gathered together about 100 leaders from the public community and food and media companies to initiate an ongoing discussion about how to address the harmful effects of unhealthy food marketing on children. According to Mrs. Obama, \"The goal here is to empower parents instead of undermining them as they try to make healthier choices for their families.\" In her appeal to industry leaders to market responsibly to children, the First Lady praised their and resources,\"And fortunately you have everything it takes to get this done because through the magic of marketing and, all of you, more than anyone else, have the power to shape our kids'tastes and desires.\" But industry leaders do not want to take credit publicly for shaping kids'tastes and desires. We consistently hear the same message in our discussions with food industry executives,\"We only respond to consumer demand. If parents didn't want their children to eat these products, they should learn how to say ' o'.\" But it makes no business sense for food and beverage companies to spend $1.8 billion every year in marketing specifically targeted to children and adolescents if they honestly believe that parents make all the food choices for their children. And it's hypocritical to blame parents for making poor choices when they harness their enormous marketing resources directed at children specifically to get around\"gatekeeper Mom\"(in the words of the marketers). Tactics like adding vitamin C to Popsicles or claims that Fruit Roll-ups are made with\"real fruit\"—without mentioning the corn syrup, dried corn syrup and sugar also in the product—are designed to make Moms feel ok about buying these products when their children ask for them. We often hear another common argument for why food and media companies do not need to take responsibility for their child-targeted marketing practices: \"If parents don't want their children to see food advertising, they shouldn't let them sit in front of the TV or computer for hours. Send them outside to play instead! \" Companies can get away with these arguments because parents are an easy target. Most Americans—including most parents—believe that parents are responsible for protecting their children from harmful influences in the media. To illustrate just how difficult it would be for parents to stop their kids from seeing marketing messages for fast food and wanting the unhealthy products they push, the Rudd Center communications created a clever video. We have received a lot of positive feedback on the video, but I was intrigued by one viewer's response:\"Just show kids why advertising is bad, and anyone trying to get profit has a motive to lie to you and exploit you. Then you can safely let them see any advertisement as much as you want (emphasis added).\" This viewpoint exemplifies early theories of consumer development—first proposed by Ward, Wackman and Wartella in the 1970's—when companies first started to target advertising to children. These theories posit that once children understand the persuasive intent of advertising they possess a\" filter\"to protect them from unwanted influence. This belief that children can be\"inoculated\" against the effects of advertising is the basis for teaching media literacy in schools. No one would argue that teaching children that advertising sometimes tries to exploit and even lie to consumers would be a bad thing. Except for one thing—there is no evidence that the motives behind food advertising actually reduces its effects on children's food preferences. Many researchers have tried to show that media literacy training can teach children to resist advertising for unhealthy foods. These studies do show that media literacy can increase children's skepticism about food advertising. However, recent research also shows that greater skepticism does not reduce the effectiveness of food advertising. Researchers at the Rudd Center – and other colleagues who study food marketing—can attest to just how difficult it is to resist these messages. We probably know more about food companies'marketing tactics and motives than almost anyone. I have an MBA in marketing from the Wharton School and worked as a marketing executive for 18 years—and my colleagues and I have been studying food marketing to children for ten years. But at the end of a day spent watching fast food advertisements for our research, most of us still have to fight cravings for a Dairy Queen Blizzard or McDonald's french fries. Fast food restaurants and other food and beverage companies know much more about how to make their products impossible to resist than psychologists or children's health advocates know about how to effectively counteract their appeals. In the short term, it is good business for advertisers who target children to deflect criticism by saying they have no role in shaping kids'tastes and desires—and blaming parents for poor. It is also in their best interests to support initiatives—such as media literacy and promoting physical activity—that place the onus on the individual to resist unwanted influence. But they cannot also claim that their actions support the First Lady's efforts to empower parents and help them raise healthy children.\n",
            "Entry 9892: Recent studies have found a significant association between PTSD and low heart rate variability (HRV), a biomarker of autonomic dysregulation. Research indicates that respiratory sinus arrhythmia (RSA) biofeedback increases HRV while reducing related pathological symptoms. This controlled pilot study compared RSA biofeedback to progressive muscle relaxation (PMR) as adjunctive interventions for 38 persons with PTSD symptoms in a residential treatment facility for a substance use disorder. Both groups were assessed at pre-intervention and 4-week post-intervention. Group x time interactions revealed significantly greater reductions in depressive symptoms and increases in HRV indices for the RSA group. Both groups significantly reduced PTSD and insomnia symptoms and a statistical trend was observed for reduced substance craving for the RSA group. Increases in HRV were significantly associated with PTSD symptom reduction. Overall, these results provide preliminary support for the efficacy of RSA biofeedback in improving physiological and psychological health for individuals with PTSD.\n",
            "Entry 651: I know how they are but for many (like many others) I've struggled with mental illness. We are taught to look at life through the lens of illness. This is taught as much as it is in classrooms, but it takes a little effort to see through the façade that is mental illness. We can only see outward, and in this case at least, we can see it through the eyes of someone else. People with mental illness often see themselves as the victim because they believe their symptoms are caused by their condition, but I'm here to tell you they are not. They are not. Being able to see how someone else's feelings are affecting you directly, as well as see that the thoughts or actions of your friends and family members are often just as problematic, is often the first step to recognizing one's own. One of the ways I feel like I've become more confident, more self-controlled and more caring, especially after talking with my therapist for over two years, is by becoming aware of my emotions in my own life. As a result of my years with depression, I feel as if I have always been vulnerable. It took several years to begin to become much more self-aware. In order to stop feeling like I'm just like everyone else, I took things quite slowly. As time went on, it took a little more time to recognize that I was actually a different person and to change my behavior in ways that were more comfortable, and at times, more successful. I think most people will agree, being aware of our emotions puts us in control over them. As time went on I also became aware that I was also becoming a lot more physically fit. I had a great time getting in a body suit and hitting the gym and it allowed me to continue to gain muscle mass, which allows me to run my normal exercise program every day. I can always do that for you if you've talked to me in a little more detail. As for the feeling of my emotions in your life, I am not the only one. Your friends, family, coworkers, partners and many other people around the world would agree that they are probably as emotionally vulnerable and insecure as YOU are. When anyone else's sadness and unhappiness is something that you are struggling to accept to your face, you might look to others for validation or acceptance. I'm sure you realize you probably aren't always doing a perfect job or doing it as well as you want. It doesn't make you a perfect person and it doesn't fix your problem. You can definitely learn to accept what you can because you're aware of your emotions and that you are part of a much larger community around you. As my depression and anxiety are not something you truly think about while you're living, you are dealing with it all by yourself. So don't be afraid to let yourself feel what you are feeling. Emotions are contagious. Be aware of them at all times. My next article in this series will teach you how to be a bit more comfortable being vulnerable when the time comes. Until then have a happy Thanksgiving! What would you like me to teach you? Email me or leave a question in the comments section below!\n",
            "\n"
          ]
        },
        {
          "output_type": "stream",
          "name": "stderr",
          "text": [
            "100%|██████████| 1250/1250 [01:33<00:00, 13.37it/s]"
          ]
        },
        {
          "output_type": "stream",
          "name": "stdout",
          "text": [
            "Model GPT_2_model, Testing on GPT_2\n",
            "              precision    recall  f1-score   support\n",
            "\n",
            "           0       1.00      0.95      0.98      5000\n",
            "           1       0.96      1.00      0.98      5000\n",
            "\n",
            "    accuracy                           0.98     10000\n",
            "   macro avg       0.98      0.98      0.98     10000\n",
            "weighted avg       0.98      0.98      0.98     10000\n",
            "\n"
          ]
        },
        {
          "output_type": "stream",
          "name": "stderr",
          "text": [
            "\n"
          ]
        }
      ]
    },
    {
      "cell_type": "code",
      "source": [
        "# Convert f1_results to DataFrame\n",
        "df_f1 = pd.DataFrame(f1_results, columns=[\"Training Set\", \"Testing Set\", \"F1 Score\"])\n",
        "print(df_f1)"
      ],
      "metadata": {
        "colab": {
          "base_uri": "https://localhost:8080/"
        },
        "id": "KC1ZT3mMgu7Y",
        "outputId": "79c94a21-f74b-4020-a050-d887db3d8c1e"
      },
      "execution_count": 25,
      "outputs": [
        {
          "output_type": "stream",
          "name": "stdout",
          "text": [
            "           Training Set     Testing Set  F1 Score\n",
            "0    HC3_filtered_model    HC3_filtered  0.980042\n",
            "1    HC3_filtered_model  HC3_unfiltered  0.976878\n",
            "2    HC3_filtered_model           GPT_2  0.633348\n",
            "3  HC3_unfiltered_model    HC3_filtered  0.980042\n",
            "4  HC3_unfiltered_model  HC3_unfiltered  0.976878\n",
            "5  HC3_unfiltered_model           GPT_2  0.633348\n",
            "6           GPT_2_model    HC3_filtered  0.654914\n",
            "7           GPT_2_model  HC3_unfiltered  0.655949\n",
            "8           GPT_2_model           GPT_2  0.976899\n"
          ]
        }
      ]
    }
  ]
}